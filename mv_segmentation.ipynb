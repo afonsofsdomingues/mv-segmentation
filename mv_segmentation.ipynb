{
 "cells": [
  {
   "cell_type": "markdown",
   "metadata": {},
   "source": [
    "# TASK 3"
   ]
  },
  {
   "cell_type": "code",
   "execution_count": null,
   "metadata": {},
   "outputs": [],
   "source": [
    "import torch.optim as optim\n",
    "from sklearn.model_selection import train_test_split\n",
    "from torch.optim.lr_scheduler import ReduceLROnPlateau\n",
    "\n",
    "import utils as utils\n",
    "from data_loader import *\n",
    "from unet import *\n",
    "from trainer import *\n",
    "from transforms import *\n",
    "import random\n",
    "\n",
    "seed_value = 42\n",
    "\n",
    "random.seed(seed_value)\n",
    "np.random.seed(seed_value)\n",
    "torch.manual_seed(seed_value)\n",
    "torch.cuda.manual_seed_all(seed_value)\n",
    "torch.backends.cudnn.deterministic = True\n",
    "torch.backends.cudnn.benchmark = False"
   ]
  },
  {
   "cell_type": "markdown",
   "metadata": {},
   "source": [
    "# Loading and preprocessing the data"
   ]
  },
  {
   "cell_type": "code",
   "execution_count": 2,
   "metadata": {},
   "outputs": [],
   "source": [
    "# load data\n",
    "train_data = utils.load_zipped_pickle(\"train.pkl\")\n",
    "test_data = utils.load_zipped_pickle(\"test.pkl\")"
   ]
  },
  {
   "cell_type": "code",
   "execution_count": null,
   "metadata": {},
   "outputs": [],
   "source": [
    "names, images, masks = utils.preprocess_train_data(train_data)\n",
    "test_names, test_videos = utils.preprocess_test_data(test_data)"
   ]
  },
  {
   "cell_type": "code",
   "execution_count": null,
   "metadata": {},
   "outputs": [],
   "source": [
    "utils.visualize_data(images, masks, names, num_samples=1)"
   ]
  },
  {
   "cell_type": "markdown",
   "metadata": {},
   "source": [
    "### Different channels after preprocessing"
   ]
  },
  {
   "cell_type": "code",
   "execution_count": null,
   "metadata": {},
   "outputs": [],
   "source": [
    "plt.figure(figsize=(20, 10))\n",
    "\n",
    "plt.subplot(1, 5, 1)\n",
    "plt.imshow(images[0][:, :, 0])\n",
    "plt.title(f\"Original frame\")\n",
    "plt.axis('off')\n",
    "\n",
    "plt.subplot(1, 5, 2)\n",
    "plt.imshow(images[0][:, :, 1])\n",
    "plt.title(f\"Gaussian Blur\")\n",
    "plt.axis('off')\n",
    "\n",
    "plt.subplot(1, 5, 3)\n",
    "plt.imshow(images[0][:, :, 2])\n",
    "plt.title(f\"Yen segmentation\")\n",
    "plt.axis('off') \n",
    "\n",
    "plt.tight_layout()\n",
    "plt.show()"
   ]
  },
  {
   "cell_type": "markdown",
   "metadata": {},
   "source": [
    "# Training\n",
    "\n",
    "The weights of the model were saved in a .pth file in the models directory to prevent having to train the model repeatedly."
   ]
  },
  {
   "cell_type": "code",
   "execution_count": null,
   "metadata": {},
   "outputs": [],
   "source": [
    "BATCH_SIZE = 5\n",
    "\n",
    "images_train, images_valid, masks_train, masks_valid = train_test_split(images, masks, test_size=0.2, random_state=seed_value, shuffle=True)\n",
    "\n",
    "print(\"Before replication:\", len(images_train), len(images_valid))\n",
    "\n",
    "# replicate data points to perform data augmentation\n",
    "images_train = images_train * 10\n",
    "masks_train = masks_train * 10\n",
    "\n",
    "print(\"After replication:\", len(images_train), len(images_valid))\n",
    "\n",
    "train_loader = get_loader(images_train, masks_train, BATCH_SIZE, mode=\"train\")\n",
    "valid_loader = get_loader(images_valid, masks_valid, BATCH_SIZE)"
   ]
  },
  {
   "cell_type": "code",
   "execution_count": null,
   "metadata": {},
   "outputs": [],
   "source": [
    "class Config:\n",
    "    lr = 0.0001\n",
    "    num_epochs = 30\n",
    "    model_path = \"models\"\n",
    "\n",
    "trainer = Trainer(Config, train_loader, valid_loader)"
   ]
  },
  {
   "cell_type": "code",
   "execution_count": null,
   "metadata": {},
   "outputs": [],
   "source": [
    "models = {\n",
    "    \"U_Net\": UNet(n_classes=1, n_channels=3, bilinear=False),\n",
    "}\n",
    "\n",
    "results = {}\n",
    "\n",
    "for model_name, model in models.items():\n",
    "    print(f\"Training {model_name}...\")\n",
    "    best_val_jaccard = trainer.train_and_evaluate(model, model_name)\n",
    "    results[model_name] = {\n",
    "        \"Validation Median Jaccard\": best_val_jaccard,\n",
    "    }\n",
    "\n",
    "print(\"Final Results:\")\n",
    "for model_name, scores in results.items():\n",
    "    print(f\"{model_name}: {scores}\")"
   ]
  },
  {
   "cell_type": "markdown",
   "metadata": {},
   "source": [
    "# Output visualization"
   ]
  },
  {
   "cell_type": "code",
   "execution_count": null,
   "metadata": {},
   "outputs": [],
   "source": [
    "device = (\"cuda\"\n",
    "          if torch.cuda.is_available()\n",
    "          else \"mps\"\n",
    "          if torch.backends.mps.is_available()\n",
    "          else \"cpu\"\n",
    "         )\n",
    "print(f\"Using {device} device\\n\")\n",
    "\n",
    "model = UNet(n_classes=1, n_channels=3, bilinear=False).to(device)\n",
    "\n",
    "# Load the model weights\n",
    "model.load_state_dict(torch.load('models/U_Net_best.pth', map_location=device))"
   ]
  },
  {
   "cell_type": "markdown",
   "metadata": {},
   "source": [
    "### Train image visualization"
   ]
  },
  {
   "cell_type": "code",
   "execution_count": 10,
   "metadata": {},
   "outputs": [],
   "source": [
    "model.eval()\n",
    "\n",
    "with torch.no_grad():\n",
    "    idx = 40\n",
    "\n",
    "    input_tensor = torch.from_numpy(images[idx]).permute(2, 0, 1).unsqueeze(0).to(device)\n",
    "    output_mask = model(input_tensor.float())\n",
    "    output_mask = torch.sigmoid(output_mask)\n",
    "\n",
    "    binary_mask = (output_mask >= 0.8).float()"
   ]
  },
  {
   "cell_type": "markdown",
   "metadata": {},
   "source": [
    "##### Original image and mask prediction"
   ]
  },
  {
   "cell_type": "code",
   "execution_count": null,
   "metadata": {},
   "outputs": [],
   "source": [
    "utils.visualize_data([images[idx]], [binary_mask.squeeze(0).permute(1, 2, 0).to(\"cpu\").detach().numpy()], [names[idx]], num_samples=1)"
   ]
  },
  {
   "cell_type": "markdown",
   "metadata": {},
   "source": [
    "##### True mask"
   ]
  },
  {
   "cell_type": "code",
   "execution_count": null,
   "metadata": {},
   "outputs": [],
   "source": [
    "plt.imshow(masks[idx])"
   ]
  },
  {
   "cell_type": "markdown",
   "metadata": {},
   "source": [
    "### Test image visualization"
   ]
  },
  {
   "cell_type": "code",
   "execution_count": null,
   "metadata": {},
   "outputs": [],
   "source": [
    "idx = 8\n",
    "\n",
    "input_tensor = torch.from_numpy(test_videos[idx]).permute(2, 0, 1).unsqueeze(0).to(device)\n",
    "\n",
    "output_mask = model(input_tensor.float())\n",
    "output_mask = torch.sigmoid(output_mask)\n",
    "\n",
    "binary_mask = (output_mask >= 0.8).float()\n",
    "\n",
    "utils.visualize_data([test_videos[idx]], [binary_mask.squeeze(0).permute(1, 2, 0).to(\"cpu\").detach().numpy()], [test_names[idx]], num_samples=1)"
   ]
  },
  {
   "cell_type": "markdown",
   "metadata": {},
   "source": [
    "# Submission"
   ]
  },
  {
   "cell_type": "code",
   "execution_count": 14,
   "metadata": {},
   "outputs": [],
   "source": [
    "test_names = list(dict.fromkeys(test_names))\n",
    "ids, values, masks_per_video = utils.get_submission_ids_and_values(model, test_videos, test_names, test_data, device)"
   ]
  },
  {
   "cell_type": "code",
   "execution_count": null,
   "metadata": {},
   "outputs": [],
   "source": [
    "utils.create_videos(test_data, masks_per_video)"
   ]
  },
  {
   "cell_type": "code",
   "execution_count": 16,
   "metadata": {},
   "outputs": [],
   "source": [
    "import pandas as pd\n",
    "\n",
    "df = pd.DataFrame({\"id\":ids, \"value\":[list(map(int, minili)) for minili in values]})\n",
    "df.to_csv(f\"submission.csv\", index=False)"
   ]
  }
 ],
 "metadata": {
  "kernelspec": {
   "display_name": "Python 3",
   "language": "python",
   "name": "python3"
  },
  "language_info": {
   "codemirror_mode": {
    "name": "ipython",
    "version": 3
   },
   "file_extension": ".py",
   "mimetype": "text/x-python",
   "name": "python",
   "nbconvert_exporter": "python",
   "pygments_lexer": "ipython3",
   "version": "3.12.8"
  }
 },
 "nbformat": 4,
 "nbformat_minor": 2
}
